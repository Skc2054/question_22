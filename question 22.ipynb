{
 "cells": [
  {
   "cell_type": "code",
   "execution_count": 8,
   "id": "73baf583",
   "metadata": {},
   "outputs": [
    {
     "name": "stdout",
     "output_type": "stream",
     "text": [
      "Id with higher temperatures compared to its previous dates\n",
      "2\n",
      "4\n"
     ]
    }
   ],
   "source": [
    "import sqlite3\n",
    "conn = sqlite3.connect('weather.db')\n",
    "cursor = conn.cursor()\n",
    "\n",
    "# SQL query to find IDs with higher temperatures compared to the previous day\n",
    "query = '''\n",
    "    SELECT w.id\n",
    "    FROM Weather w\n",
    "    WHERE EXISTS (\n",
    "        SELECT 1\n",
    "        FROM Weather w_prev\n",
    "        WHERE w_prev.recordDate = DATE(w.recordDate, '-1 day')\n",
    "          AND w.temperature > w_prev.temperature\n",
    "    )\n",
    "    ORDER BY w.id\n",
    "'''\n",
    "cursor.execute(query)\n",
    "\n",
    "results = cursor.fetchall()\n",
    "print(\"Id with higher temperatures compared to its previous dates\")\n",
    "for row in results:\n",
    "    print(row[0])\n",
    "\n",
    "conn.close()\n"
   ]
  }
 ],
 "metadata": {
  "kernelspec": {
   "display_name": "Python 3 (ipykernel)",
   "language": "python",
   "name": "python3"
  },
  "language_info": {
   "codemirror_mode": {
    "name": "ipython",
    "version": 3
   },
   "file_extension": ".py",
   "mimetype": "text/x-python",
   "name": "python",
   "nbconvert_exporter": "python",
   "pygments_lexer": "ipython3",
   "version": "3.11.5"
  }
 },
 "nbformat": 4,
 "nbformat_minor": 5
}
